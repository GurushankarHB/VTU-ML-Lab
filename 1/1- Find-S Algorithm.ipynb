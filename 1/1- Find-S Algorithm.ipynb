{
 "cells": [
  {
   "cell_type": "markdown",
   "metadata": {},
   "source": [
    "The algorithm used to find a Maximally Specific Hypothesis. We start off with a Most Specific Hypothesis and based on the Training Examples, we end up with a Maximally Specific Hypothesis for the Target Concept. The description for teh algorithm is given below."
   ]
  },
  {
   "cell_type": "markdown",
   "metadata": {},
   "source": [
    "Initialize h to the most specific hypothesis in H\n",
    "For each positive training instance x\n",
    "      For each attribute constraint a in h\n",
    "            If the constraint a is satisfied by x\n",
    "                  Then do nothing\n",
    "            Else\n",
    "                  Replace a in h by the next more general constraint that is satisfied by x\n",
    "Output hypothesis h"
   ]
  },
  {
   "cell_type": "code",
   "execution_count": 6,
   "metadata": {},
   "outputs": [
    {
     "name": "stdout",
     "output_type": "stream",
     "text": [
      "     sky airTemp humidity    wind water forecast enjoySport\n",
      "0  sunny    warm   normal  strong  warm     same        yes\n",
      "1  sunny    warm     high  strong  warm     same        yes\n",
      "2  rainy    cold     high  strong  warm   change         no\n",
      "3  sunny    warm     high  strong  cool   change        yes\n",
      "\n",
      "\n",
      "The positive Hypotheses are\n",
      "[['sunny', 'warm', 'normal', 'strong', 'warm', 'same'], ['sunny', 'warm', 'high', 'strong', 'warm', 'same'], ['sunny', 'warm', 'high', 'strong', 'cool', 'change']]\n",
      "\n",
      "\n",
      "The negative Hypotheses are\n",
      "[['rainy', 'cold', 'high', 'strong', 'warm', 'change']]\n",
      "\n",
      "\n",
      "The Maximally Specific Hypothesis h is\n",
      "['sunny', 'warm', '?', 'strong', '?', '?']\n"
     ]
    }
   ],
   "source": [
    "import pandas as pd    #Pandas must be installed.Pandas used for reading data from .csv file. \n",
    "data = pd.read_csv('enjoysport.csv')#ensure csv file exists in the same folder as the python code.\n",
    "columnLength= data.shape[1] #obtain number of columns\n",
    "rowLength=data.shape[0] #obtain number of rows\n",
    "print (data) #print the table\n",
    "h=['0','0','0','0','0','0'] #nitialize  h to the most specific hypothesis in the Hypotheses Space H\n",
    "hp=[] #nitialize list hp i.e list of hypotheses for positive training examples\n",
    "hn=[] #nitialize list hn i.e list of hypotheses for all negative training examples\n",
    "\n",
    "for i in range(rowLength):\t\t\t #his loop is used to build the hypothesis list for every row.\n",
    "\ttrainingExample=[]\t\t\t#initialize list trainingExample used to hold a hypothesis after fetching it from .csv file\n",
    "\ttrainingExample.append(data.sky[i])\t\t\t# every column value for a row is fetched and appended to trainingExample\n",
    "\ttrainingExample.append(data.airTemp[i])\n",
    "\ttrainingExample.append(data.humidity[i])\n",
    "\ttrainingExample.append(data.wind[i])\n",
    "\ttrainingExample.append(data.water[i])\n",
    "\ttrainingExample.append(data.forecast[i])\n",
    "\tif data.enjoySport[i]!='no':\t#if the trainingExample is positive, then it is appended to hp else to hn\n",
    "\t\thp.append(trainingExample)\n",
    "\telse:\n",
    "\t\thn.append(trainingExample)\n",
    "for i in range (len(hp)):\t\t\t#update the hypothesis h from most specific to maximally specific\n",
    "\tfor j in range(columnLength-1):\t#if the hypothesis attribute value is 0, it is updated to the attributes in the first hypothesis\n",
    "\t\tif (h[j]=='0'):\t\t\t\t\n",
    "\t\t\th[j]=hp[i][j]\t\t\t\n",
    "\t\tif (h[j]!=hp[i][j]):\t#if the attribute value in the hypothesis is not same as the attribute value in the successive hypotheses\n",
    "\t\t\th[j]='?'\t\t\t#then it is updated to '?' indicating that any value is acceptable.\n",
    "\t\telse:\t\t\t\t#if the attribute in the hypothesis is the same as the attribute value in the successive hypotheses\n",
    "\t\t\th[j]=hp[i][j]\t\t#then the same attribute value is retained\n",
    "print('\\n')\n",
    "print('The positive Hypotheses are')\t\t\t\n",
    "print(hp)\n",
    "\n",
    "print('\\n')\n",
    "print('The negative Hypotheses are')\t\t\t\n",
    "print(hn)\n",
    "\t\t\t\n",
    "print('\\n')\n",
    "print('The Maximally Specific Hypothesis h is')\t\t\t\n",
    "print(h)"
   ]
  },
  {
   "cell_type": "markdown",
   "metadata": {},
   "source": [
    "Content of XL file"
   ]
  }
 ],
 "metadata": {
  "kernelspec": {
   "display_name": "Python 3",
   "language": "python",
   "name": "python3"
  },
  "language_info": {
   "codemirror_mode": {
    "name": "ipython",
    "version": 3
   },
   "file_extension": ".py",
   "mimetype": "text/x-python",
   "name": "python",
   "nbconvert_exporter": "python",
   "pygments_lexer": "ipython3",
   "version": "3.6.3"
  }
 },
 "nbformat": 4,
 "nbformat_minor": 2
}
