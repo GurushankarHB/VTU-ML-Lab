{
 "cells": [
  {
   "cell_type": "code",
   "execution_count": 1,
   "metadata": {},
   "outputs": [
    {
     "name": "stdout",
     "output_type": "stream",
     "text": [
      "['Sunny', 'Warm', 'Normal', 'Strong', 'Warm', 'Same', 'Yes']\n",
      "['Sunny', 'Warm', 'High', 'Strong', 'Warm', 'Same', 'Yes']\n",
      "['Rainy', 'Cold', 'High', 'Strong', 'Warm', 'Change', 'No']\n",
      "['Sunny', 'Warm', 'High', 'Strong', 'Cool', 'Change', 'Yes']\n",
      "The most general hypothesis: ['?', '?', '?', '?', '?', '?']\n",
      "The most specific hypothesis: ['0', '0', '0', '0', '0', '0']\n",
      "\n",
      " Find S: Finding a maximally specific hypothesis\n",
      "The taining example no: 1  the hyposthesis is: ['Sunny', 'Warm', 'Normal', 'Strong', 'Warm', 'Same']\n",
      "The taining example no: 2  the hyposthesis is: ['Sunny', 'Warm', '?', 'Strong', 'Warm', 'Same']\n",
      "The taining example no: 3  the hyposthesis is: ['Sunny', 'Warm', '?', 'Strong', 'Warm', 'Same']\n",
      "The taining example no: 4  the hyposthesis is: ['Sunny', 'Warm', '?', 'Strong', '?', '?']\n",
      "\n",
      " The maximally specific hypohthesis for training set is\n",
      "['Sunny', 'Warm', '?', 'Strong', '?', '?']\n"
     ]
    }
   ],
   "source": [
    "import csv\n",
    "a=[]\n",
    "with open('finds.csv') as csfile:\n",
    "    reader = csv.reader(csfile)\n",
    "    for row in reader:\n",
    "        a.append(row)\n",
    "        print(row)\n",
    "num_attributes=len(a[0])-1\n",
    "\n",
    "print(\"The most general hypothesis:\",[\"?\"]*num_attributes)\n",
    "print(\"The most specific hypothesis:\",[\"0\"]*num_attributes)\n",
    "\n",
    "hypothesis=a[0][:-1]\n",
    "print(\"\\n Find S: Finding a maximally specific hypothesis\")\n",
    "for i in range (len(a)):\n",
    "    if a[i][num_attributes] == \"Yes\":\n",
    "        for j in range(num_attributes):\n",
    "            if a[i][j]!=hypothesis[j]:\n",
    "                hypothesis[j]='?'\n",
    "    print(\"The taining example no:\",i+1,\" the hyposthesis is:\",hypothesis)\n",
    "print(\"\\n The maximally specific hypohthesis for training set is\")\n",
    "print(hypothesis)"
   ]
  },
  {
   "cell_type": "code",
   "execution_count": null,
   "metadata": {
    "collapsed": true
   },
   "outputs": [],
   "source": []
  }
 ],
 "metadata": {
  "kernelspec": {
   "display_name": "Python 3",
   "language": "python",
   "name": "python3"
  },
  "language_info": {
   "codemirror_mode": {
    "name": "ipython",
    "version": 3
   },
   "file_extension": ".py",
   "mimetype": "text/x-python",
   "name": "python",
   "nbconvert_exporter": "python",
   "pygments_lexer": "ipython3",
   "version": "3.6.3"
  }
 },
 "nbformat": 4,
 "nbformat_minor": 2
}
